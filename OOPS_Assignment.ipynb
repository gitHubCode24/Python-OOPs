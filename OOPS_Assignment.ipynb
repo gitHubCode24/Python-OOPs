{
  "nbformat": 4,
  "nbformat_minor": 0,
  "metadata": {
    "colab": {
      "provenance": []
    },
    "kernelspec": {
      "name": "python3",
      "display_name": "Python 3"
    },
    "language_info": {
      "name": "python"
    }
  },
  "cells": [
    {
      "cell_type": "markdown",
      "source": [
        "#**Python OOPs Theory Answers**\n",
        "\n"
      ],
      "metadata": {
        "id": "hHC7hd3nn8EI"
      }
    },
    {
      "cell_type": "markdown",
      "source": [
        "#1. What is Object-Oriented Programming (OOP)?\n",
        "\n",
        "---\n",
        "\n"
      ],
      "metadata": {
        "id": "7wU7A-6yQrgL"
      }
    },
    {
      "cell_type": "markdown",
      "source": [
        "Object-Oriented Programming (OOP) is a way of writing programs that uses objects to represent real-world things. Each object has data (attributes) and actions (methods). OOP makes programs easier to understand, organize, and reuse."
      ],
      "metadata": {
        "id": "9z3XAd98RHoH"
      }
    },
    {
      "cell_type": "markdown",
      "source": [
        "#2. What is a class in OOP?"
      ],
      "metadata": {
        "id": "Fhh0OTRPRLYt"
      }
    },
    {
      "cell_type": "markdown",
      "source": [
        "A class in OOP is a blueprint or template used to create objects. It defines the attributes (data) and methods (actions) that the objects created from it will have."
      ],
      "metadata": {
        "id": "jObAiDNIRLOk"
      }
    },
    {
      "cell_type": "markdown",
      "source": [
        "#3. What is an object in OOP?"
      ],
      "metadata": {
        "id": "qgJksycsRLFE"
      }
    },
    {
      "cell_type": "markdown",
      "source": [
        "An object in OOP is a real-world thing created from a class. It has its own data (attributes) and can perform actions (methods) defined in the class."
      ],
      "metadata": {
        "id": "TucZs5f5RK6E"
      }
    },
    {
      "cell_type": "markdown",
      "source": [
        "#4. What is the difference between abstraction and encapsulation?"
      ],
      "metadata": {
        "id": "XBAhUoeiRKu3"
      }
    },
    {
      "cell_type": "markdown",
      "source": [
        "- Abstraction → Hides unnecessary details and shows only the important features.\n",
        "- Encapsulation → Hides the internal data and keeps it safe, allowing access only through methods."
      ],
      "metadata": {
        "id": "NvyXhal1RKfU"
      }
    },
    {
      "cell_type": "markdown",
      "source": [],
      "metadata": {
        "id": "YuSWdjU-WvPM"
      }
    },
    {
      "cell_type": "markdown",
      "source": [
        "#5. What are dunder methods in Python?"
      ],
      "metadata": {
        "id": "2wc7KQVzR16a"
      }
    },
    {
      "cell_type": "markdown",
      "source": [
        "Dunder methods in Python are special methods that have double underscores at the beginning and end of their names (like __init__, __str__)."
      ],
      "metadata": {
        "id": "FdqcFqq5R5H1"
      }
    },
    {
      "cell_type": "markdown",
      "source": [
        "#6. Explain the concept of inheritance in OOP?"
      ],
      "metadata": {
        "id": "8aPPXJvUR6aR"
      }
    },
    {
      "cell_type": "markdown",
      "source": [
        "- Inheritance in OOP is a concept where a class (child/subclass) can take properties and methods from another class (parent/superclass).\n",
        "- It allows code reuse and makes programs easier to maintain.\n",
        "- The child class can also have its own attributes and methods.\n",
        "- **Example**:\n",
        "  - If Vehicle is a parent class with a method start(), then Car can inherit from Vehicle and also use start() without rewriting it."
      ],
      "metadata": {
        "id": "tb7dYCn_R-PG"
      }
    },
    {
      "cell_type": "markdown",
      "source": [
        "#7. What is polymorphism in OOP?"
      ],
      "metadata": {
        "id": "a8Z1I5KDoCJn"
      }
    },
    {
      "cell_type": "markdown",
      "source": [
        "Polymorphism means “many forms”. It allows different objects to use the same method name but behave differently.\n",
        "- *Example:* draw() works differently for Circle and Rectangle objects."
      ],
      "metadata": {
        "id": "EMVk_3HWoCGw"
      }
    },
    {
      "cell_type": "markdown",
      "source": [
        "#8. How is encapsulation achieved in Python?"
      ],
      "metadata": {
        "id": "MDxF3z80oCDm"
      }
    },
    {
      "cell_type": "markdown",
      "source": [
        "Encapsulation is done by hiding data using private variables (prefix _ or __) and providing getter/setter methods to access or modify them safely."
      ],
      "metadata": {
        "id": "-R72mFZ0oCAv"
      }
    },
    {
      "cell_type": "markdown",
      "source": [
        "#9. What is a constructor in Python?"
      ],
      "metadata": {
        "id": "mwXSiOrioB9J"
      }
    },
    {
      "cell_type": "markdown",
      "source": [
        "A constructor is a special method __init__() that runs automatically when an object is created to initialize its attributes."
      ],
      "metadata": {
        "id": "fFegQO-eoB66"
      }
    },
    {
      "cell_type": "markdown",
      "source": [
        "#10. What are class and static methods in Python?"
      ],
      "metadata": {
        "id": "x-HaW4ZcoB2-"
      }
    },
    {
      "cell_type": "markdown",
      "source": [
        "- Class method (@classmethod) → works with the class itself, not individual objects; first parameter is cls.\n",
        "- Static method (@staticmethod) → does not use class or object; behaves like a regular function inside a class."
      ],
      "metadata": {
        "id": "n_BwA04RoB06"
      }
    },
    {
      "cell_type": "markdown",
      "source": [
        "#11. What is method overloading in Python?"
      ],
      "metadata": {
        "id": "TjzN9cAYoBws"
      }
    },
    {
      "cell_type": "markdown",
      "source": [
        "Method overloading means having multiple methods with the same name but different parameters.\n",
        "- ***Note:*** Python does not support it directly, but you can simulate it using default arguments."
      ],
      "metadata": {
        "id": "WPgEMHE6oBuT"
      }
    },
    {
      "cell_type": "markdown",
      "source": [
        "#12. What is method overriding in OOP?"
      ],
      "metadata": {
        "id": "MvcIe78IoBpr"
      }
    },
    {
      "cell_type": "markdown",
      "source": [
        "Method overriding occurs when a child class redefines a method that already exists in its parent class. The child’s method is used instead."
      ],
      "metadata": {
        "id": "UYfQXHw1oBk5"
      }
    },
    {
      "cell_type": "markdown",
      "source": [
        "#13. What is a property decorator in Python?"
      ],
      "metadata": {
        "id": "zLmXRi4IoBgd"
      }
    },
    {
      "cell_type": "markdown",
      "source": [
        "@property allows you to access a method like an attribute, making it easier to get or set values without explicitly calling methods."
      ],
      "metadata": {
        "id": "FGlg3sU-oBTc"
      }
    },
    {
      "cell_type": "markdown",
      "source": [
        "#14. Why is polymorphism important in OOP?"
      ],
      "metadata": {
        "id": "1Sg_UsXYoBHL"
      }
    },
    {
      "cell_type": "markdown",
      "source": [
        "Polymorphism allows flexible and reusable code, as the same method can work with different types of objects, reducing complexity."
      ],
      "metadata": {
        "id": "qpxAWCSmoA5e"
      }
    },
    {
      "cell_type": "markdown",
      "source": [
        "#15. What is an abstract class in Python?"
      ],
      "metadata": {
        "id": "uDp5h-PeoAmb"
      }
    },
    {
      "cell_type": "markdown",
      "source": [
        "An abstract class is a class that cannot be instantiated and usually contains abstract methods that must be implemented by child classes.\n",
        "- *Created using*: from abc import ABC, abstractmethod"
      ],
      "metadata": {
        "id": "-h6_iUGqT0Qx"
      }
    },
    {
      "cell_type": "markdown",
      "source": [
        "#16. What are the advantages of OOP?"
      ],
      "metadata": {
        "id": "vJQ-4VjhT-N3"
      }
    },
    {
      "cell_type": "markdown",
      "source": [
        "- Code reusability (inheritance)\n",
        "- Easy maintenance\n",
        "- Modular programs\n",
        "- Models real-world problems better\n",
        "- Encapsulation protects data"
      ],
      "metadata": {
        "id": "uUX6kFM2T9KQ"
      }
    },
    {
      "cell_type": "markdown",
      "source": [
        "#17. What is the difference between a class variable and an instance variable?"
      ],
      "metadata": {
        "id": "yS0Cs8-dT9E2"
      }
    },
    {
      "cell_type": "markdown",
      "source": [
        "- Class variable → shared by all objects of the class\n",
        "- Instance variable → unique for each object"
      ],
      "metadata": {
        "id": "84S8ootwT9AE"
      }
    },
    {
      "cell_type": "markdown",
      "source": [
        "#18. What is multiple inheritance in Python?"
      ],
      "metadata": {
        "id": "KybTLqppT86Q"
      }
    },
    {
      "cell_type": "markdown",
      "source": [
        "Multiple inheritance is when a class inherits from more than one parent class.\n",
        "- *Example*: `class Child(Parent1, Parent2):`"
      ],
      "metadata": {
        "id": "jNqOVvQlVLar"
      }
    },
    {
      "cell_type": "markdown",
      "source": [
        "#19. Explain the purpose of `__str__` and `__repr__` methods in Python"
      ],
      "metadata": {
        "id": "j5eeaReGT8zT"
      }
    },
    {
      "cell_type": "markdown",
      "source": [
        "- `__str__()` → returns a user-friendly string when an object is printed\n",
        "- `__repr__()` → returns a developer-friendly string for debugging"
      ],
      "metadata": {
        "id": "CRur4_rqT8sy"
      }
    },
    {
      "cell_type": "markdown",
      "source": [
        "#20. What is the significance of the `super()` function in Python?"
      ],
      "metadata": {
        "id": "lAiazE8vT8lW"
      }
    },
    {
      "cell_type": "markdown",
      "source": [
        "#21. What is the significance of the `__del__` method in Python?"
      ],
      "metadata": {
        "id": "hNfmoQ1IT8cp"
      }
    },
    {
      "cell_type": "markdown",
      "source": [
        "`__del__()` is the destructor method that is called when an object is about to be destroyed to clean up resources."
      ],
      "metadata": {
        "id": "L6YkMk6xT8SR"
      }
    },
    {
      "cell_type": "markdown",
      "source": [
        "#22. What is the difference between `@staticmethod` and `@classmethod` in Python?"
      ],
      "metadata": {
        "id": "UOADE-_sVeV7"
      }
    },
    {
      "cell_type": "markdown",
      "source": [
        "- @staticmethod → does not access class or instance; behaves like a normal function\n",
        "- @classmethod → accesses the class (cls) and can modify class variables"
      ],
      "metadata": {
        "id": "EDUfj5b7VeSg"
      }
    },
    {
      "cell_type": "markdown",
      "source": [
        "#23. How does polymorphism work in Python with inheritance?"
      ],
      "metadata": {
        "id": "5eyJJ3wpVePT"
      }
    },
    {
      "cell_type": "markdown",
      "source": [
        "Polymorphism allows a child class object to be used wherever a parent class object is expected, and the child’s method is called if overridden."
      ],
      "metadata": {
        "id": "Q6Pn9WTTVeMD"
      }
    },
    {
      "cell_type": "markdown",
      "source": [
        "#24. What is method chaining in Python OOP?"
      ],
      "metadata": {
        "id": "rWiQ2ohEVeI_"
      }
    },
    {
      "cell_type": "markdown",
      "source": [
        "Method chaining is calling multiple methods on the same object in a single line, where each method returns the object itself.\n",
        "- *Example*: `obj.set_name(\"Alex\").set_age(10).show()`"
      ],
      "metadata": {
        "id": "JfZmpLhQVeFX"
      }
    },
    {
      "cell_type": "markdown",
      "source": [
        "#25. What is the purpose of the `__call__` method in Python?"
      ],
      "metadata": {
        "id": "xlO0D6okVeCB"
      }
    },
    {
      "cell_type": "markdown",
      "source": [
        "`__call__()` allows an object to be called like a function.\n",
        "- *Example*:"
      ],
      "metadata": {
        "id": "VneXa9UdVd-6"
      }
    },
    {
      "cell_type": "code",
      "source": [
        "class Example:\n",
        "    def __call__(self):\n",
        "        print(\"Object called like a function\")\n",
        "obj = Example()\n",
        "obj()  # works because of __call__()"
      ],
      "metadata": {
        "colab": {
          "base_uri": "https://localhost:8080/"
        },
        "id": "qZK08ZfHWWvy",
        "outputId": "6d946fb3-05ec-4244-e593-eedf2d91f280"
      },
      "execution_count": 1,
      "outputs": [
        {
          "output_type": "stream",
          "name": "stdout",
          "text": [
            "Object called like a function\n"
          ]
        }
      ]
    },
    {
      "cell_type": "markdown",
      "source": [
        "#**Practical Answers**"
      ],
      "metadata": {
        "id": "HtVZwXrkWfGw"
      }
    },
    {
      "cell_type": "markdown",
      "source": [
        "1. Create a parent class Animal with a method `speak()` that prints a generic message. Create a child class Dog that overrides the `speak()` method to print \"Bark!\"."
      ],
      "metadata": {
        "id": "pua1AG_VW-w9"
      }
    },
    {
      "cell_type": "code",
      "source": [
        "class Animal:\n",
        "    def speak(self):\n",
        "        print(\"Generic message\")\n",
        "\n",
        "class Dog(Animal):\n",
        "    def speak(self):\n",
        "        print(\"Bark!\")\n",
        "\n",
        "dog = Dog()\n",
        "dog.speak()"
      ],
      "metadata": {
        "colab": {
          "base_uri": "https://localhost:8080/"
        },
        "id": "nUHTIDQMXSvh",
        "outputId": "f09d2ff8-b5d4-41aa-b4bb-97423e4d3311"
      },
      "execution_count": 4,
      "outputs": [
        {
          "output_type": "stream",
          "name": "stdout",
          "text": [
            "Bark!\n"
          ]
        }
      ]
    },
    {
      "cell_type": "markdown",
      "source": [
        "2. Write a program to create an abstract class Shape with a method area(). Derive classes Circle and Rectangle from it and implement the area() method in both."
      ],
      "metadata": {
        "id": "zz6B1CVFW-ta"
      }
    },
    {
      "cell_type": "code",
      "source": [
        "from abc import ABC, abstractmethod\n",
        "import math\n",
        "\n",
        "# Abstract class\n",
        "class Shape(ABC):\n",
        "    @abstractmethod\n",
        "    def area(self):\n",
        "        pass\n",
        "\n",
        "# Circle class\n",
        "class Circle(Shape):\n",
        "    def __init__(self, radius):\n",
        "        self.radius = radius\n",
        "\n",
        "    def area(self):\n",
        "        return math.pi * self.radius ** 2\n",
        "\n",
        "# Rectangle class\n",
        "class Rectangle(Shape):\n",
        "    def __init__(self, length, width):\n",
        "        self.length = length\n",
        "        self.width = width\n",
        "\n",
        "    def area(self):\n",
        "        return self.length * self.width\n",
        "\n",
        "# Create objects\n",
        "circle = Circle(5)\n",
        "rectangle = Rectangle(4, 6)\n",
        "\n",
        "print(\"Area of Circle:\", circle.area())\n",
        "print(\"Area of Rectangle:\", rectangle.area())"
      ],
      "metadata": {
        "colab": {
          "base_uri": "https://localhost:8080/"
        },
        "id": "VpjNDmalXtrt",
        "outputId": "962ddd84-c077-4d32-b324-048c8225bb60"
      },
      "execution_count": 8,
      "outputs": [
        {
          "output_type": "stream",
          "name": "stdout",
          "text": [
            "Area of Circle: 78.53981633974483\n",
            "Area of Rectangle: 24\n"
          ]
        }
      ]
    },
    {
      "cell_type": "markdown",
      "source": [
        "3. Implement a multi-level inheritance scenario where a class Vehicle has an attribute type. Derive a class Car and further derive a class ElectricCar that adds a battery attribute."
      ],
      "metadata": {
        "id": "gJJrwgwwW-mG"
      }
    },
    {
      "cell_type": "code",
      "source": [
        "# Base class\n",
        "class Vehicle:\n",
        "    def __init__(self, vehicle_type):\n",
        "        self.vehicle_type = vehicle_type\n",
        "\n",
        "# Derived class\n",
        "class Car(Vehicle):\n",
        "    def __init__(self, vehicle_type, brand):\n",
        "        super().__init__(vehicle_type)  # Call Vehicle constructor\n",
        "        self.brand = brand\n",
        "\n",
        "# Further derived class\n",
        "class ElectricCar(Car):\n",
        "    def __init__(self, vehicle_type, brand, battery_capacity):\n",
        "        super().__init__(vehicle_type, brand)  # Call Car constructor\n",
        "        self.battery_capacity = battery_capacity\n",
        "\n",
        "    def display_info(self):\n",
        "        print(f\"Type: {self.vehicle_type}\")\n",
        "        print(f\"Brand: {self.brand}\")\n",
        "        print(f\"Battery Capacity: {self.battery_capacity} kWh\")\n",
        "\n",
        "# Create object\n",
        "my_electric_car = ElectricCar(\"Car\", \"Tesla\", 75)\n",
        "my_electric_car.display_info()"
      ],
      "metadata": {
        "colab": {
          "base_uri": "https://localhost:8080/"
        },
        "id": "5ggVno11YX0_",
        "outputId": "b46f0f72-4811-4e97-8357-02049d3aa386"
      },
      "execution_count": 10,
      "outputs": [
        {
          "output_type": "stream",
          "name": "stdout",
          "text": [
            "Type: Car\n",
            "Brand: Tesla\n",
            "Battery Capacity: 75 kWh\n"
          ]
        }
      ]
    },
    {
      "cell_type": "markdown",
      "source": [
        "4. Demonstrate polymorphism by creating a base class Bird with a method fly(). Create two derived classes Sparrow and Penguin that override the fly() method.\n"
      ],
      "metadata": {
        "id": "FDqgHerJW-gu"
      }
    },
    {
      "cell_type": "code",
      "source": [
        "# Base class\n",
        "class Bird:\n",
        "    def fly(self):\n",
        "        print(\"Birds can fly.\")\n",
        "\n",
        "# Derived class 1\n",
        "class Sparrow(Bird):\n",
        "    def fly(self):\n",
        "        print(\"Sparrows fly short distances.\")\n",
        "\n",
        "# Derived class 2\n",
        "class Penguin(Bird):\n",
        "    def fly(self):\n",
        "        print(\"Penguins cannot fly, but they can swim.\")\n",
        "\n",
        "# Demonstrate polymorphism\n",
        "def bird_flying(bird):\n",
        "    bird.fly()\n",
        "\n",
        "sparrow = Sparrow()\n",
        "penguin = Penguin()\n",
        "\n",
        "bird_flying(sparrow)\n",
        "bird_flying(penguin)"
      ],
      "metadata": {
        "colab": {
          "base_uri": "https://localhost:8080/"
        },
        "id": "8Q4tBCAmZ2y-",
        "outputId": "5662a8df-99b3-4d09-82b4-07732adc7880"
      },
      "execution_count": 13,
      "outputs": [
        {
          "output_type": "stream",
          "name": "stdout",
          "text": [
            "Sparrows fly short distances.\n",
            "Penguins cannot fly, but they can swim.\n"
          ]
        }
      ]
    },
    {
      "cell_type": "markdown",
      "source": [
        "5. Write a program to demonstrate encapsulation by creating a class BankAccount with private attributes balance and methods to deposit, withdraw, and check balance."
      ],
      "metadata": {
        "id": "vrPXVeqxW-br"
      }
    },
    {
      "cell_type": "code",
      "metadata": {
        "colab": {
          "base_uri": "https://localhost:8080/"
        },
        "id": "8e8b0dcc",
        "outputId": "cb6e999b-86e5-4a6d-e576-0435995388b7"
      },
      "source": [
        "class BankAccount:\n",
        "    def __init__(self):\n",
        "        self.__balance = 0  # Private attribute\n",
        "\n",
        "    def deposit(self, amount):\n",
        "        if amount > 0:\n",
        "            self.__balance += amount\n",
        "            print(f\"Deposited: ${amount}\")\n",
        "        else:\n",
        "            print(\"Invalid deposit amount\")\n",
        "\n",
        "    def withdraw(self, amount):\n",
        "        if 0 < amount <= self.__balance:\n",
        "            self.__balance -= amount\n",
        "            print(f\"Withdrew: ${amount}\")\n",
        "        else:\n",
        "            print(\"Invalid withdrawal amount or insufficient balance\")\n",
        "\n",
        "    def get_balance(self):\n",
        "        return self.__balance\n",
        "\n",
        "# Demonstrate encapsulation\n",
        "account = BankAccount()\n",
        "account.deposit(1000)\n",
        "account.withdraw(500)\n",
        "print(\"Current Balance:\", account.get_balance())\n",
        "account.withdraw(600) # This will fail\n",
        "print(\"Current Balance:\", account.get_balance())\n",
        "\n",
        "# Trying to access the private attribute directly will result in an error\n",
        "# print(account.__balance)"
      ],
      "execution_count": 14,
      "outputs": [
        {
          "output_type": "stream",
          "name": "stdout",
          "text": [
            "Deposited: $1000\n",
            "Withdrew: $500\n",
            "Current Balance: 500\n",
            "Invalid withdrawal amount or insufficient balance\n",
            "Current Balance: 500\n"
          ]
        }
      ]
    },
    {
      "cell_type": "markdown",
      "source": [
        "6. Demonstrate runtime polymorphism using a method play() in a base class Instrument. Derive classes Guitar and Piano that implement their own version of play()."
      ],
      "metadata": {
        "id": "Tu_iT9Gjadz5"
      }
    },
    {
      "cell_type": "code",
      "source": [
        "# Base class\n",
        "class Instrument:\n",
        "    def play(self):\n",
        "        print(\"Instrument is playing\")\n",
        "\n",
        "# Derived class 1\n",
        "class Guitar(Instrument):\n",
        "    def play(self):\n",
        "        print(\"Guitar is strumming\")\n",
        "\n",
        "# Derived class 2\n",
        "class Piano(Instrument):\n",
        "    def play(self):\n",
        "        print(\"Piano is playing chords\")\n",
        "\n",
        "# Demonstrate runtime polymorphism\n",
        "def play_instrument(instrument):\n",
        "    instrument.play()\n",
        "\n",
        "guitar = Guitar()\n",
        "piano = Piano()\n",
        "\n",
        "play_instrument(guitar)\n",
        "play_instrument(piano)"
      ],
      "metadata": {
        "colab": {
          "base_uri": "https://localhost:8080/"
        },
        "id": "BsREizdgadGD",
        "outputId": "7560719f-5cbc-498e-eda7-5cd3a34ff376"
      },
      "execution_count": 15,
      "outputs": [
        {
          "output_type": "stream",
          "name": "stdout",
          "text": [
            "Guitar is strumming\n",
            "Piano is playing chords\n"
          ]
        }
      ]
    },
    {
      "cell_type": "markdown",
      "source": [
        "7. Create a class MathOperations with a class method add_numbers() to add two numbers and a static method subtract_numbers() to subtract two numbers."
      ],
      "metadata": {
        "id": "6KgpyLSjayuo"
      }
    },
    {
      "cell_type": "code",
      "source": [
        "class MathOperations:\n",
        "    @classmethod\n",
        "    def add_numbers(cls, num1, num2):\n",
        "        return num1 + num2\n",
        "\n",
        "    @staticmethod\n",
        "    def subtract_numbers(num1, num2):\n",
        "        return num1 - num2\n",
        "\n",
        "# Demonstrate the methods\n",
        "print(\"Addition:\", MathOperations.add_numbers(10, 5))\n",
        "print(\"Subtraction:\", MathOperations.subtract_numbers(10, 5))"
      ],
      "metadata": {
        "colab": {
          "base_uri": "https://localhost:8080/"
        },
        "id": "VmCH6635a2xV",
        "outputId": "fb57e610-7363-4d7c-b401-cbb69f5bff85"
      },
      "execution_count": 17,
      "outputs": [
        {
          "output_type": "stream",
          "name": "stdout",
          "text": [
            "Addition: 15\n",
            "Subtraction: 5\n"
          ]
        }
      ]
    },
    {
      "cell_type": "markdown",
      "source": [
        "8. Implement a class Person with a class method to count the total number of persons created."
      ],
      "metadata": {
        "id": "A_2hAAo5a4xB"
      }
    },
    {
      "cell_type": "code",
      "source": [
        "class Person:\n",
        "    total_persons = 0  # Class variable to count persons\n",
        "\n",
        "    def __init__(self, name):\n",
        "        self.name = name\n",
        "        Person.total_persons += 1  # Increment count when a new object is created\n",
        "\n",
        "    @classmethod\n",
        "    def get_total_persons(cls):\n",
        "        return cls.total_persons\n",
        "\n",
        "# Demonstrate the class method\n",
        "person1 = Person(\"Alice\")\n",
        "person2 = Person(\"Bob\")\n",
        "person3 = Person(\"Charlie\")\n",
        "\n",
        "print(\"Total number of persons created:\", Person.get_total_persons())"
      ],
      "metadata": {
        "colab": {
          "base_uri": "https://localhost:8080/"
        },
        "id": "ss-vViTkbEMk",
        "outputId": "bd433fbc-751d-44a0-be74-c9f1b7df253b"
      },
      "execution_count": 19,
      "outputs": [
        {
          "output_type": "stream",
          "name": "stdout",
          "text": [
            "Total number of persons created: 3\n"
          ]
        }
      ]
    },
    {
      "cell_type": "markdown",
      "source": [
        "9. Write a class Fraction with attributes numerator and denominator. Override the str method to display the fraction as \"numerator/denominator\"."
      ],
      "metadata": {
        "id": "Xy2XM7mja4rR"
      }
    },
    {
      "cell_type": "code",
      "source": [
        "class Fraction:\n",
        "    def __init__(self, numerator, denominator):\n",
        "        self.numerator = numerator\n",
        "        self.denominator = denominator\n",
        "\n",
        "    def __str__(self):\n",
        "        return f\"{self.numerator}/{self.denominator}\"\n",
        "\n",
        "# Demonstrate the Fraction class\n",
        "my_fraction = Fraction(3, 4)\n",
        "print(my_fraction)\n",
        "\n",
        "another_fraction = Fraction(1, 2)\n",
        "print(another_fraction)"
      ],
      "metadata": {
        "colab": {
          "base_uri": "https://localhost:8080/"
        },
        "id": "v9njgYtmbRxS",
        "outputId": "77ca6d62-8bc8-48c6-9a5c-25de7fbd5a08"
      },
      "execution_count": 23,
      "outputs": [
        {
          "output_type": "stream",
          "name": "stdout",
          "text": [
            "3/4\n",
            "1/2\n"
          ]
        }
      ]
    },
    {
      "cell_type": "markdown",
      "source": [
        "10. Demonstrate operator overloading by creating a class Vector and overriding the add method to add two vectors."
      ],
      "metadata": {
        "id": "ESOp2cMIa4kx"
      }
    },
    {
      "cell_type": "code",
      "source": [
        "class Vector:\n",
        "    def __init__(self, x, y):\n",
        "        self.x = x\n",
        "        self.y = y\n",
        "\n",
        "    def __str__(self):\n",
        "        return f\"({self.x}, {self.y})\"\n",
        "\n",
        "    def __add__(self, other):\n",
        "        if isinstance(other, Vector):\n",
        "            return Vector(self.x + other.x, self.y + other.y)\n",
        "        else:\n",
        "            raise TypeError(\"Can only add a Vector object\")\n",
        "\n",
        "# Demonstrate operator overloading\n",
        "vector1 = Vector(2, 3)\n",
        "vector2 = Vector(1, 4)\n",
        "\n",
        "vector_sum = vector1 + vector2\n",
        "print(\"Vector 1:\", vector1)\n",
        "print(\"Vector 2:\", vector2)\n",
        "print(\"Sum of Vectors:\", vector_sum)"
      ],
      "metadata": {
        "colab": {
          "base_uri": "https://localhost:8080/"
        },
        "id": "FHRJuGfrb7O1",
        "outputId": "aa7dae5c-3566-4218-a386-874a5c139cfc"
      },
      "execution_count": 25,
      "outputs": [
        {
          "output_type": "stream",
          "name": "stdout",
          "text": [
            "Vector 1: (2, 3)\n",
            "Vector 2: (1, 4)\n",
            "Sum of Vectors: (3, 7)\n"
          ]
        }
      ]
    },
    {
      "cell_type": "markdown",
      "source": [
        "11. Create a class Person with attributes name and age. Add a method greet() that prints \"Hello, my name is {name} and I am {age} years old.\""
      ],
      "metadata": {
        "id": "L2CtKmwya4fD"
      }
    },
    {
      "cell_type": "code",
      "source": [
        "class Person:\n",
        "    def __init__(self, name, age):\n",
        "        self.name = name\n",
        "        self.age = age\n",
        "\n",
        "    def greet(self):\n",
        "        print(f\"Hello, my name is {self.name} and I am {self.age} years old.\")\n",
        "\n",
        "# Demonstrate the Person class\n",
        "person1 = Person(\"Eshwar\", 30)\n",
        "person1.greet()\n",
        "\n",
        "person2 = Person(\"John\", 25)\n",
        "person2.greet()"
      ],
      "metadata": {
        "colab": {
          "base_uri": "https://localhost:8080/"
        },
        "id": "nMhl-5IwcSP5",
        "outputId": "ac3bb60f-7e65-4325-ec7a-e99d803ae612"
      },
      "execution_count": 28,
      "outputs": [
        {
          "output_type": "stream",
          "name": "stdout",
          "text": [
            "Hello, my name is Eshwar and I am 30 years old.\n",
            "Hello, my name is John and I am 25 years old.\n"
          ]
        }
      ]
    },
    {
      "cell_type": "markdown",
      "source": [
        "12. Implement a class Student with attributes name and grades. Create a method average_grade() to compute the average of the grades."
      ],
      "metadata": {
        "id": "j745jsEfa4ZS"
      }
    },
    {
      "cell_type": "code",
      "source": [
        "class Student:\n",
        "    def __init__(self, name, grades):\n",
        "        self.name = name\n",
        "        self.grades = grades\n",
        "\n",
        "    def average_grade(self):\n",
        "        if not self.grades:\n",
        "            return 0\n",
        "        return sum(self.grades) / len(self.grades)\n",
        "\n",
        "# Demonstrate the Student class\n",
        "student1 = Student(\"Alice\", [85, 90, 92, 88])\n",
        "print(f\"{student1.name}'s average grade: {student1.average_grade()}\")\n",
        "\n",
        "student2 = Student(\"Bob\", [78, 80, 82, 75])\n",
        "print(f\"{student2.name}'s average grade: {student2.average_grade()}\")\n",
        "\n",
        "student3 = Student(\"Charlie\", [])\n",
        "print(f\"{student3.name}'s average grade: {student3.average_grade()}\")"
      ],
      "metadata": {
        "colab": {
          "base_uri": "https://localhost:8080/"
        },
        "id": "7K0HWbtjcjRR",
        "outputId": "5fb02c01-0581-4202-c247-7168bcac95f0"
      },
      "execution_count": 30,
      "outputs": [
        {
          "output_type": "stream",
          "name": "stdout",
          "text": [
            "Alice's average grade: 88.75\n",
            "Bob's average grade: 78.75\n",
            "Charlie's average grade: 0\n"
          ]
        }
      ]
    },
    {
      "cell_type": "markdown",
      "source": [
        "13. Create a class Rectangle with methods set_dimensions() to set the dimensions and area() to calculate the area."
      ],
      "metadata": {
        "id": "LouRRi-La4TI"
      }
    },
    {
      "cell_type": "code",
      "source": [
        "class Rectangle:\n",
        "    def __init__(self):\n",
        "        self.length = 0\n",
        "        self.width = 0\n",
        "\n",
        "    def set_dimensions(self, length, width):\n",
        "        self.length = length\n",
        "        self.width = width\n",
        "\n",
        "    def area(self):\n",
        "        return self.length * self.width\n",
        "\n",
        "# Demonstrate the Rectangle class\n",
        "rectangle = Rectangle()\n",
        "rectangle.set_dimensions(10, 5)\n",
        "print(f\"Area of the rectangle: {rectangle.area()}\")"
      ],
      "metadata": {
        "colab": {
          "base_uri": "https://localhost:8080/"
        },
        "id": "DLGCdI2ydAKk",
        "outputId": "6587096e-1ef8-4a5b-ee1b-0b913e8c15d1"
      },
      "execution_count": 32,
      "outputs": [
        {
          "output_type": "stream",
          "name": "stdout",
          "text": [
            "Area of the rectangle: 50\n"
          ]
        }
      ]
    },
    {
      "cell_type": "markdown",
      "source": [
        "14. Create a class Employee with a method calculate_salary() that computes the salary based on hours worked and hourly rate. Create a derived class Manager that adds a bonus to the salary."
      ],
      "metadata": {
        "id": "B-TzP3cya4MD"
      }
    },
    {
      "cell_type": "code",
      "source": [
        "class Employee:\n",
        "    def __init__(self, hours_worked, hourly_rate):\n",
        "        self.hours_worked = hours_worked\n",
        "        self.hourly_rate = hourly_rate\n",
        "\n",
        "    def calculate_salary(self):\n",
        "        return self.hours_worked * self.hourly_rate\n",
        "\n",
        "class Manager(Employee):\n",
        "    def __init__(self, hours_worked, hourly_rate, bonus):\n",
        "        super().__init__(hours_worked, hourly_rate)\n",
        "        self.bonus = bonus\n",
        "\n",
        "    def calculate_salary(self):\n",
        "        base_salary = super().calculate_salary()\n",
        "        return base_salary + self.bonus\n",
        "\n",
        "# Demonstrate the classes\n",
        "employee = Employee(40, 20)\n",
        "manager = Manager(40, 20, 500)\n",
        "\n",
        "print(f\"Employee Salary: ${employee.calculate_salary()}\")\n",
        "print(f\"Manager Salary: ${manager.calculate_salary()}\")"
      ],
      "metadata": {
        "colab": {
          "base_uri": "https://localhost:8080/"
        },
        "id": "GzymGs0fdWkJ",
        "outputId": "e6b87ef0-c40a-4948-b1a8-19a568f09286"
      },
      "execution_count": 34,
      "outputs": [
        {
          "output_type": "stream",
          "name": "stdout",
          "text": [
            "Employee Salary: $800\n",
            "Manager Salary: $1300\n"
          ]
        }
      ]
    },
    {
      "cell_type": "markdown",
      "source": [
        "15. Create a class Product with attributes name, price, and quantity. Implement a method total_price() that calculates the total price of the product."
      ],
      "metadata": {
        "id": "Xx_Go7tsdUEC"
      }
    },
    {
      "cell_type": "code",
      "source": [
        "class Product:\n",
        "    def __init__(self, name, price, quantity):\n",
        "        self.name = name\n",
        "        self.price = price\n",
        "        self.quantity = quantity\n",
        "\n",
        "    def total_price(self):\n",
        "        return self.price * self.quantity\n",
        "\n",
        "# Demonstrate the Product class\n",
        "product1 = Product(\"Laptop\", 1200, 1)\n",
        "product2 = Product(\"Mouse\", 25, 5)\n",
        "\n",
        "print(f\"{product1.name} total price: ${product1.total_price()}\")\n",
        "print(f\"{product2.name} total price: ${product2.total_price()}\")"
      ],
      "metadata": {
        "colab": {
          "base_uri": "https://localhost:8080/"
        },
        "id": "hFRt_d6bdpWq",
        "outputId": "878eef70-9e1d-409c-f588-5547e4ba4473"
      },
      "execution_count": 36,
      "outputs": [
        {
          "output_type": "stream",
          "name": "stdout",
          "text": [
            "Laptop total price: $1200\n",
            "Mouse total price: $125\n"
          ]
        }
      ]
    },
    {
      "cell_type": "markdown",
      "source": [
        "16. Create a class Animal with an abstract method sound(). Create two derived classes Cow and Sheep that implement the sound() method."
      ],
      "metadata": {
        "id": "d9zb1_0edU3u"
      }
    },
    {
      "cell_type": "code",
      "source": [
        "from abc import ABC, abstractmethod\n",
        "\n",
        "# Abstract class\n",
        "class Animal(ABC):\n",
        "    @abstractmethod\n",
        "    def sound(self):\n",
        "        pass\n",
        "\n",
        "# Derived class 1\n",
        "class Cow(Animal):\n",
        "    def sound(self):\n",
        "        return \"Moo!\"\n",
        "\n",
        "# Derived class 2\n",
        "class Sheep(Animal):\n",
        "    def sound(self):\n",
        "        return \"Baa!\"\n",
        "\n",
        "# Demonstrate the classes\n",
        "cow = Cow()\n",
        "sheep = Sheep()\n",
        "\n",
        "print(f\"Cow says: {cow.sound()}\")\n",
        "print(f\"Sheep says: {sheep.sound()}\")"
      ],
      "metadata": {
        "colab": {
          "base_uri": "https://localhost:8080/"
        },
        "id": "Cblf9Kwwd58X",
        "outputId": "c6c85ac9-4ed1-4d9d-ba6d-1ab4af67f071"
      },
      "execution_count": 38,
      "outputs": [
        {
          "output_type": "stream",
          "name": "stdout",
          "text": [
            "Cow says: Moo!\n",
            "Sheep says: Baa!\n"
          ]
        }
      ]
    },
    {
      "cell_type": "markdown",
      "source": [
        "17. Create a class Book with attributes title, author, and year_published. Add a method get_book_info() that returns a formatted string with the book's details."
      ],
      "metadata": {
        "id": "Xc8WCHvrdVr4"
      }
    },
    {
      "cell_type": "code",
      "source": [
        "class Book:\n",
        "    def __init__(self, title, author, year_published):\n",
        "        self.title = title\n",
        "        self.author = author\n",
        "        self.year_published = year_published\n",
        "\n",
        "    def get_book_info(self):\n",
        "        return f\"Title: {self.title}, Author: {self.author}, Year Published: {self.year_published}\"\n",
        "\n",
        "# Demonstrate the Book class\n",
        "book1 = Book(\"The Hitchhiker's Guide to the Galaxy\", \"Douglas Adams\", 1979)\n",
        "print(book1.get_book_info())\n",
        "\n",
        "book2 = Book(\"Pride and Prejudice\", \"Jane Austen\", 1813)\n",
        "print(book2.get_book_info())"
      ],
      "metadata": {
        "colab": {
          "base_uri": "https://localhost:8080/"
        },
        "id": "Y79DKbpoeLG5",
        "outputId": "3d5a7047-2263-413f-c638-7cbf624844a6"
      },
      "execution_count": 40,
      "outputs": [
        {
          "output_type": "stream",
          "name": "stdout",
          "text": [
            "Title: The Hitchhiker's Guide to the Galaxy, Author: Douglas Adams, Year Published: 1979\n",
            "Title: Pride and Prejudice, Author: Jane Austen, Year Published: 1813\n"
          ]
        }
      ]
    },
    {
      "cell_type": "markdown",
      "source": [
        "18. Create a class House with attributes address and price. Create a derived class Mansion that adds an attribute number_of_rooms."
      ],
      "metadata": {
        "id": "-CDTMnJteSo2"
      }
    },
    {
      "cell_type": "code",
      "source": [
        "class House:\n",
        "    def __init__(self, address, price):\n",
        "        self.address = address\n",
        "        self.price = price\n",
        "\n",
        "    def get_house_info(self):\n",
        "        return f\"Address: {self.address}, Price: ${self.price}\"\n",
        "\n",
        "class Mansion(House):\n",
        "    def __init__(self, address, price, number_of_rooms):\n",
        "        super().__init__(address, price)\n",
        "        self.number_of_rooms = number_of_rooms\n",
        "\n",
        "    def get_mansion_info(self):\n",
        "        house_info = super().get_house_info()\n",
        "        return f\"{house_info}, Number of Rooms: {self.number_of_rooms}\"\n",
        "\n",
        "# Demonstrate the classes\n",
        "house1 = House(\"123 Main St\", 300000)\n",
        "mansion1 = Mansion(\"456 Oak Ave\", 1500000, 10)\n",
        "\n",
        "print(house1.get_house_info())\n",
        "print(mansion1.get_mansion_info())"
      ],
      "metadata": {
        "colab": {
          "base_uri": "https://localhost:8080/"
        },
        "id": "PzbwLPn-eaZe",
        "outputId": "bda05c89-7c15-453a-c043-5d23d5473660"
      },
      "execution_count": 41,
      "outputs": [
        {
          "output_type": "stream",
          "name": "stdout",
          "text": [
            "Address: 123 Main St, Price: $300000\n",
            "Address: 456 Oak Ave, Price: $1500000, Number of Rooms: 10\n"
          ]
        }
      ]
    }
  ]
}